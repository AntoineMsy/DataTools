{
 "cells": [
  {
   "cell_type": "code",
   "execution_count": 1,
   "metadata": {
    "pycharm": {
     "is_executing": false,
     "name": "#%%\n"
    }
   },
   "outputs": [
    {
     "name": "stdout",
     "output_type": "stream",
     "text": [
      "Welcome to JupyROOT 6.16/00\n"
     ]
    }
   ],
   "source": [
    "import argparse\n",
    "import os\n",
    "from root_utils.root_file_utils import *\n"
   ]
  },
  {
   "cell_type": "code",
   "execution_count": 2,
   "metadata": {
    "pycharm": {
     "is_executing": false,
     "name": "#%%\n"
    }
   },
   "outputs": [
    {
     "name": "stdout",
     "output_type": "stream",
     "text": [
      "('/home/prouse/WatChMaL/DataTools/data/IWCDmPMT_varyE_e-_100-1000MeV_R0cm_1000evts_0.root', '/home/prouse/WatChMaL/DataTools/data/IWCDmPMT_varyE_e-_100-1000MeV_R0cm_1000evts_1.root')\n",
      "number of entries in the tree: 2000\n",
      "2000 events in file set test\n"
     ]
    }
   ],
   "source": [
    "name = \"test\"\n",
    "files = (os.environ['DATATOOLS']+str(\"/data/IWCDmPMT_varyE_e-_100-1000MeV_R0cm_1000evts_0.root\"),\n",
    "         os.environ['DATATOOLS']+str(\"/data/IWCDmPMT_varyE_e-_100-1000MeV_R0cm_1000evts_1.root\"))\n",
    "print(files)\n",
    "wcsim = WCSimChain(files)\n",
    "print(wcsim.nevent, \"events in file set\", name)\n"
   ]
  },
  {
   "cell_type": "code",
   "execution_count": 3,
   "metadata": {},
   "outputs": [],
   "source": [
    "ROOT.enableJSVis()"
   ]
  },
  {
   "cell_type": "code",
   "execution_count": 4,
   "metadata": {
    "pycharm": {
     "is_executing": false,
     "name": "#%%\n"
    }
   },
   "outputs": [],
   "source": [
    "digiHitTime = ROOT.TH1D(\"digiHitTime\", \";Digitized hit times [ns]\", 1350, 550, 1900)\n",
    "digiHitCharge = ROOT.TH1D(\"digiHitCharge\", \";Digitized hit charge\", 1000, 0.1, 100)\n",
    "totalCharge = ROOT.TH1D(\"totalCharge\", \";Total charge\", 1000, 100, 100000)\n",
    "digiHitTime.SetStats(0)\n",
    "digiHitCharge.SetStats(0)\n",
    "totalCharge.SetStats(0)\n",
    "digiHitTime.GetXaxis().SetTitleSize(0.05)\n",
    "digiHitCharge.GetXaxis().SetTitleSize(0.05)\n",
    "totalCharge.GetXaxis().SetTitleSize(0.05)"
   ]
  },
  {
   "cell_type": "code",
   "execution_count": 5,
   "metadata": {
    "pycharm": {
     "is_executing": false,
     "name": "#%%\n"
    }
   },
   "outputs": [
    {
     "name": "stdout",
     "output_type": "stream",
     "text": [
      "event 0 of 2000\n",
      "event 100 of 2000\n",
      "event 200 of 2000\n",
      "event 300 of 2000\n",
      "event 400 of 2000\n",
      "event 500 of 2000\n",
      "event 600 of 2000\n",
      "event 700 of 2000\n",
      "event 800 of 2000\n",
      "event 900 of 2000\n",
      "event 1000 of 2000\n",
      "event 1100 of 2000\n",
      "event 1200 of 2000\n",
      "event 1300 of 2000\n",
      "event 1400 of 2000\n",
      "event 1500 of 2000\n",
      "event 1600 of 2000\n",
      "event 1700 of 2000\n",
      "event 1800 of 2000\n",
      "event 1900 of 2000\n"
     ]
    }
   ],
   "source": [
    "digiHitCharge.Reset()\n",
    "digiHitTime.Reset()\n",
    "for ev in range(wcsim.nevent):\n",
    "    if ev%100 == 0: print(\"event\", ev, \"of\", wcsim.nevent, flush=True)\n",
    "    wcsim.get_event(ev)\n",
    "    trigger = wcsim.get_first_trigger()\n",
    "    ncherenkovdigihits = trigger.GetNcherenkovdigihits()\n",
    "    totalQ=0\n",
    "    for i in range(ncherenkovdigihits):\n",
    "        hit = trigger.GetCherenkovDigiHits().At(i)\n",
    "        digiHitTime.Fill(hit.GetT())\n",
    "        Q = hit.GetQ()\n",
    "        totalQ += Q\n",
    "        digiHitCharge.Fill(Q)\n",
    "    totalCharge.Fill(totalQ)"
   ]
  },
  {
   "cell_type": "code",
   "execution_count": 6,
   "metadata": {
    "pycharm": {
     "is_executing": false,
     "name": "#%%\n"
    }
   },
   "outputs": [
    {
     "data": {
      "text/html": [
       "\n",
       "<div id=\"root_plot_1\"\n",
       "     style=\"width: 696px; height: 472px\">\n",
       "</div>\n",
       "\n",
       "<script>\n",
       " requirejs.config({\n",
       "     paths: {\n",
       "       'JSRootCore' : '/static/jsroot//scripts/JSRootCore',\n",
       "     }\n",
       "   });\n",
       " require(['JSRootCore'],\n",
       "     function(Core) {\n",
       "       var obj = Core.JSONR_unref({\"_typename\":\"TCanvas\",\"fUniqueID\":0,\"fBits\":53673992,\"fLineColor\":1,\"fLineStyle\":1,\"fLineWidth\":1,\"fFillColor\":0,\"fFillStyle\":1001,\"fLeftMargin\":0.1,\"fRightMargin\":0.1,\"fBottomMargin\":0.1,\"fTopMargin\":0.1,\"fXfile\":2,\"fYfile\":2,\"fAfile\":1,\"fXstat\":0.99,\"fYstat\":0.99,\"fAstat\":2,\"fFrameFillColor\":0,\"fFrameLineColor\":1,\"fFrameFillStyle\":1001,\"fFrameLineStyle\":1,\"fFrameLineWidth\":1,\"fFrameBorderSize\":1,\"fFrameBorderMode\":0,\"fX1\":381.249987427145,\"fY1\":-1.0885082378661,\"fX2\":2068.75001257286,\"fY2\":6.78627371478151,\"fXtoAbsPixelk\":-157.244386915715,\"fXtoPixelk\":-157.244386915715,\"fXtoPixel\":0.412444438298543,\"fYtoAbsPixelk\":406.756860872705,\"fYtoPixelk\":406.756860872705,\"fYtoPixel\":-59.9381675376176,\"fUtoAbsPixelk\":5e-5,\"fUtoPixelk\":5e-5,\"fUtoPixel\":696,\"fVtoAbsPixelk\":472.00005,\"fVtoPixelk\":472,\"fVtoPixel\":-472,\"fAbsPixeltoXk\":381.249987427145,\"fPixeltoXk\":381.249987427145,\"fPixeltoX\":2.42456900164614,\"fAbsPixeltoYk\":6.78627371478151,\"fPixeltoYk\":-1.0885082378661,\"fPixeltoY\":-0.0166838600691687,\"fXlowNDC\":0,\"fYlowNDC\":0,\"fXUpNDC\":0,\"fYUpNDC\":0,\"fWNDC\":1,\"fHNDC\":1,\"fAbsXlowNDC\":0,\"fAbsYlowNDC\":0,\"fAbsWNDC\":1,\"fAbsHNDC\":1,\"fUxmin\":550,\"fUymin\":-0.301029995663981,\"fUxmax\":1900,\"fUymax\":5.99879547257939,\"fTheta\":30,\"fPhi\":30,\"fAspectRatio\":0,\"fNumber\":0,\"fTickx\":0,\"fTicky\":0,\"fLogx\":0,\"fLogy\":1,\"fLogz\":0,\"fPadPaint\":0,\"fCrosshair\":0,\"fCrosshairPos\":0,\"fBorderSize\":2,\"fBorderMode\":0,\"fModified\":false,\"fGridx\":false,\"fGridy\":false,\"fAbsCoord\":false,\"fEditable\":true,\"fFixedAspectRatio\":false,\"fPrimitives\":{\"_typename\":\"TList\",\"name\":\"TList\",\"arr\":[{\"_typename\":\"TFrame\",\"fUniqueID\":0,\"fBits\":50331656,\"fLineColor\":1,\"fLineStyle\":1,\"fLineWidth\":1,\"fFillColor\":0,\"fFillStyle\":1001,\"fX1\":550,\"fY1\":-0.301029995663981,\"fX2\":1900,\"fY2\":5.99879547257939,\"fBorderSize\":1,\"fBorderMode\":0},{\"_typename\":\"TH1D\",\"fUniqueID\":0,\"fBits\":50332168,\"fName\":\"digiHitTime\",\"fTitle\":\"\",\"fLineColor\":602,\"fLineStyle\":1,\"fLineWidth\":1,\"fFillColor\":0,\"fFillStyle\":1001,\"fMarkerColor\":1,\"fMarkerStyle\":1,\"fMarkerSize\":1,\"fNcells\":1352,\"fXaxis\":{\"_typename\":\"TAxis\",\"fUniqueID\":0,\"fBits\":50331656,\"fName\":\"xaxis\",\"fTitle\":\"Digitized hit times [ns]\",\"fNdivisions\":510,\"fAxisColor\":1,\"fLabelColor\":1,\"fLabelFont\":42,\"fLabelOffset\":0.005,\"fLabelSize\":0.035,\"fTickLength\":0.03,\"fTitleOffset\":1,\"fTitleSize\":0.05,\"fTitleColor\":1,\"fTitleFont\":42,\"fNbins\":1350,\"fXmin\":550,\"fXmax\":1900,\"fXbins\":[],\"fFirst\":0,\"fLast\":0,\"fBits2\":0,\"fTimeDisplay\":false,\"fTimeFormat\":\"\",\"fLabels\":null,\"fModLabs\":null},\"fYaxis\":{\"_typename\":\"TAxis\",\"fUniqueID\":0,\"fBits\":50331648,\"fName\":\"yaxis\",\"fTitle\":\"\",\"fNdivisions\":510,\"fAxisColor\":1,\"fLabelColor\":1,\"fLabelFont\":42,\"fLabelOffset\":0.005,\"fLabelSize\":0.035,\"fTickLength\":0.03,\"fTitleOffset\":0,\"fTitleSize\":0.035,\"fTitleColor\":1,\"fTitleFont\":42,\"fNbins\":1,\"fXmin\":0,\"fXmax\":1,\"fXbins\":[],\"fFirst\":0,\"fLast\":0,\"fBits2\":0,\"fTimeDisplay\":false,\"fTimeFormat\":\"\",\"fLabels\":null,\"fModLabs\":null},\"fZaxis\":{\"_typename\":\"TAxis\",\"fUniqueID\":0,\"fBits\":50331648,\"fName\":\"zaxis\",\"fTitle\":\"\",\"fNdivisions\":510,\"fAxisColor\":1,\"fLabelColor\":1,\"fLabelFont\":42,\"fLabelOffset\":0.005,\"fLabelSize\":0.035,\"fTickLength\":0.03,\"fTitleOffset\":1,\"fTitleSize\":0.035,\"fTitleColor\":1,\"fTitleFont\":42,\"fNbins\":1,\"fXmin\":0,\"fXmax\":1,\"fXbins\":[],\"fFirst\":0,\"fLast\":0,\"fBits2\":0,\"fTimeDisplay\":false,\"fTimeFormat\":\"\",\"fLabels\":null,\"fModLabs\":null},\"fBarOffset\":0,\"fBarWidth\":1000,\"fEntries\":5285709,\"fTsumw\":5285709,\"fTsumw2\":5285709,\"fTsumwx\":5110194617.68469,\"fTsumwx2\":4942639615181.56,\"fMaximum\":-1111,\"fMinimum\":-1111,\"fNormFactor\":0,\"fContour\":[],\"fSumw2\":[],\"fOption\":\"\",\"fFunctions\":{\"_typename\":\"TList\",\"name\":\"TList\",\"arr\":[],\"opt\":[]},\"fBufferSize\":0,\"fBuffer\":[],\"fBinStatErrOpt\":0,\"fStatOverflows\":2,\"fArray\":[0,3,4,5,4,2,6,4,1,3,2,3,4,4,1,4,1,1,3,3,1,2,3,1,1,0,3,3,2,2,3,6,2,1,6,2,3,2,3,3,3,3,4,2,4,1,3,3,3,4,3,3,2,5,6,2,1,4,4,1,4,2,5,7,1,3,2,3,6,2,2,6,6,4,2,1,1,0,5,4,3,1,2,0,3,5,3,3,6,4,3,4,2,4,5,2,2,5,6,1,2,1,6,2,4,5,2,1,2,3,5,5,4,4,6,1,5,5,3,1,4,2,3,6,3,1,4,4,8,0,1,3,4,7,5,2,1,4,0,4,3,3,5,6,3,4,4,8,7,3,3,7,2,6,1,3,3,5,1,3,1,1,8,5,4,2,0,5,4,3,5,5,3,3,1,3,0,2,2,1,1,5,1,2,3,3,1,4,3,6,6,6,3,3,4,1,2,4,1,0,7,2,7,1,6,1,5,5,3,2,4,2,4,1,3,1,2,3,1,1,0,2,5,4,6,2,6,5,4,2,3,7,1,4,4,4,12,2,3,3,2,4,3,2,3,1,4,5,2,8,2,5,5,2,2,7,3,5,4,2,5,8,4,3,4,2,0,2,2,2,3,3,4,3,3,2,1,1,3,5,2,5,4,2,2,2,5,5,2,3,2,2,6,5,2,2,3,3,1,2,1,2,2,4,2,4,5,7,5,1,6,5,6,1,3,3,2,1,4,7,2,0,2,3,4,3,4,3,2,1,5,4,2,2,3,4,3,2,1,4,4,5,3,4,2,2,1,2,8,3,4,3,2,4,2,5,1,3,4,1,2,3,2,2,2,2,5,2,5,4,5,3,4,7,4,3,0,3,4,3,2,2,3,3,2,1,7,4,2,3,2,2,4,2,4,3,4,13,98,1028,8666,45550,95230,109189,135985,227801,409625,526316,457340,369222,295491,246026,184418,147912,112342,100301,96280,99001,94472,76636,57933,45560,40086,39616,40178,40646,40254,39215,37620,35936,35598,36347,36779,37169,39190,41145,43347,45423,48516,51566,54968,56546,54231,49555,43241,36292,30092,25189,21026,18114,15863,13953,12316,10996,9840,9073,8163,7406,7041,6541,6027,5596,5412,5072,5013,4884,4672,4599,4574,4417,4278,4086,3921,3757,3592,3430,3171,3012,2782,2672,2376,2136,1994,1810,1692,1647,1423,1356,1229,1198,1110,975,959,963,859,779,750,723,656,653,637,552,574,497,517,467,423,402,335,354,337,321,310,298,297,245,235,232,211,181,190,186,170,170,138,147,150,129,112,95,107,115,91,86,74,90,67,61,58,51,54,58,57,36,41,45,34,45,29,35,26,25,26,28,23,17,25,16,19,16,19,20,18,14,18,15,10,15,9,7,9,11,6,10,9,5,9,10,10,9,4,5,4,2,9,8,7,3,3,4,4,7,6,5,3,2,2,6,2,1,4,2,2,6,0,2,2,4,5,2,2,1,3,2,4,4,1,3,2,2,2,1,1,4,1,2,2,6,8,4,2,4,3,3,3,0,1,2,5,5,3,3,2,1,4,2,7,0,2,4,1,0,3,1,2,5,1,1,3,3,6,4,0,2,2,5,3,4,4,3,3,5,3,4,3,0,7,4,3,2,3,3,1,3,6,0,0,4,7,2,3,8,2,2,0,2,2,3,3,3,4,2,1,4,4,1,1,1,1,1,7,3,3,1,3,1,1,3,1,0,3,7,4,1,1,2,3,2,2,3,3,1,4,1,1,2,2,0,2,2,5,2,2,3,2,1,1,4,0,4,3,3,3,4,1,2,3,0,1,2,2,2,2,1,3,3,5,4,5,1,4,2,1,1,4,4,1,1,0,3,2,5,2,3,0,0,1,3,5,3,4,1,4,1,1,5,1,2,4,3,1,3,2,2,0,2,4,3,4,1,2,1,3,5,2,2,2,3,1,1,2,1,0,4,2,3,1,2,4,4,2,1,2,1,1,3,3,4,2,2,4,3,4,6,8,3,3,1,2,1,7,2,0,1,0,3,3,4,2,4,0,6,2,2,4,1,3,3,3,3,5,1,4,7,0,3,2,0,2,6,4,6,7,3,3,2,2,3,2,5,4,3,0,2,5,6,4,0,2,3,1,4,3,2,2,2,3,6,2,2,4,4,2,3,1,2,4,4,3,5,1,2,4,1,4,4,4,2,2,2,3,2,2,2,2,1,3,2,4,4,0,2,3,1,1,1,5,3,2,3,0,1,1,1,1,2,4,4,1,3,0,6,0,1,8,3,5,3,2,6,4,4,4,0,3,4,4,2,6,3,3,1,3,3,0,1,5,5,3,2,3,1,5,4,3,1,1,3,2,2,3,3,0,3,4,2,1,1,4,2,4,2,3,1,2,2,1,2,1,2,6,3,2,2,3,0,3,1,5,1,2,4,2,2,1,5,2,2,1,3,6,2,7,4,5,1,1,1,3,0,3,2,3,3,3,4,4,3,5,3,3,1,5,2,3,5,4,0,5,3,2,4,7,2,1,4,3,5,1,3,1,2,3,3,3,2,2,3,8,5,0,3,2,1,3,2,1,5,5,3,2,2,2,5,3,5,6,3,2,3,1,3,1,0,2,4,2,3,5,3,6,2,0,2,1,3,0,0,3,3,1,3,4,1,1,3,2,3,4,2,2,3,0,4,2,2,2,5,4,0,2,2,4,1,9,3,2,3,1,4,3,3,3,2,0,0,1,2,1,5,2,1,1,3,4,2,5,2,1,4,1,1,2,8,3,4,4,3,5,3,3,1,3,1,2,1,1,3,3,0,3,3,3,2,2,3,3,4,2,4,4,4,6,5,5,5,8,4,5,0,2,3,0,0,1,0,3,2,4,4,1,3,7,0,4,2,2,4,2,2,3,1,3,1,5,2,1,0,2,2,3,2,1,1,4,2,1,0,2,5,1,7,3,2,2,3,2,5,3,4,3,3,3,3,2,1,3,6,5,4,2,1,2,1,1,3,4,2,2,3,3,5,3,2,2,1,2,0,2,2,4,0,3,3,4,3,1,4,5,6,2,2,1,4,4,2,4,2,3,4,3,0,5,4,3,1,1,5,4,4,0,5,5,4,2,1,2,4,2,0,0,1,2,2,3,2,2,1,2,4,1,0]}],\"opt\":[\"\",\"\"]},\"fExecs\":null,\"fName\":\"c1\",\"fTitle\":\"c1\",\"fNumPaletteColor\":0,\"fNextPaletteColor\":0,\"fDISPLAY\":\"$DISPLAY\",\"fDoubleBuffer\":0,\"fRetained\":true,\"fXsizeUser\":0,\"fYsizeUser\":0,\"fXsizeReal\":20,\"fYsizeReal\":14.28571,\"fWindowTopX\":0,\"fWindowTopY\":0,\"fWindowWidth\":0,\"fWindowHeight\":0,\"fCw\":696,\"fCh\":472,\"fCatt\":{\"_typename\":\"TAttCanvas\",\"fXBetween\":2,\"fYBetween\":2,\"fTitleFromTop\":1.2,\"fXdate\":0.2,\"fYdate\":0.3,\"fAdate\":1},\"kMoveOpaque\":true,\"kResizeOpaque\":true,\"fHighLightColor\":2,\"fBatch\":true,\"kShowEventStatus\":false,\"kAutoExec\":true,\"kMenuBar\":true});\n",
       "       Core.draw(\"root_plot_1\", obj, \"\");\n",
       "     }\n",
       " );\n",
       "</script>\n"
      ],
      "text/plain": [
       "<IPython.core.display.HTML object>"
      ]
     },
     "metadata": {},
     "output_type": "display_data"
    },
    {
     "data": {
      "text/html": [
       "\n",
       "<div id=\"root_plot_2\"\n",
       "     style=\"width: 696px; height: 472px\">\n",
       "</div>\n",
       "\n",
       "<script>\n",
       " requirejs.config({\n",
       "     paths: {\n",
       "       'JSRootCore' : '/static/jsroot//scripts/JSRootCore',\n",
       "     }\n",
       "   });\n",
       " require(['JSRootCore'],\n",
       "     function(Core) {\n",
       "       var obj = Core.JSONR_unref({\"_typename\":\"TCanvas\",\"fUniqueID\":0,\"fBits\":53673992,\"fLineColor\":1,\"fLineStyle\":1,\"fLineWidth\":1,\"fFillColor\":0,\"fFillStyle\":1001,\"fLeftMargin\":0.1,\"fRightMargin\":0.1,\"fBottomMargin\":0.1,\"fTopMargin\":0.1,\"fXfile\":2,\"fYfile\":2,\"fAfile\":1,\"fXstat\":0.99,\"fYstat\":0.99,\"fAstat\":2,\"fFrameFillColor\":0,\"fFrameLineColor\":1,\"fFrameFillStyle\":1001,\"fFrameLineStyle\":1,\"fFrameLineWidth\":1,\"fFrameBorderSize\":1,\"fFrameBorderMode\":0,\"fX1\":-1.37500002793968,\"fY1\":-1.06702947765654,\"fX2\":2.37500002793968,\"fY2\":6.59296488569774,\"fXtoAbsPixelk\":255.200051382828,\"fXtoPixelk\":255.200051382828,\"fXtoPixel\":185.599997234344,\"fYtoAbsPixelk\":406.250926754778,\"fYtoPixelk\":406.250926754778,\"fYtoPixel\":-61.6188442981195,\"fUtoAbsPixelk\":5e-5,\"fUtoPixelk\":5e-5,\"fUtoPixel\":696,\"fVtoAbsPixelk\":472.00005,\"fVtoPixelk\":472,\"fVtoPixel\":-472,\"fAbsPixeltoXk\":-1.37500002793968,\"fPixeltoXk\":-1.37500002793968,\"fPixeltoX\":0.00538793111476919,\"fAbsPixeltoYk\":6.59296488569774,\"fPixeltoYk\":-1.06702947765654,\"fPixeltoY\":-0.016228801617276,\"fXlowNDC\":0,\"fYlowNDC\":0,\"fXUpNDC\":0,\"fYUpNDC\":0,\"fWNDC\":1,\"fHNDC\":1,\"fAbsXlowNDC\":0,\"fAbsYlowNDC\":0,\"fAbsWNDC\":1,\"fAbsHNDC\":1,\"fUxmin\":-1,\"fUymin\":-0.301029995663981,\"fUxmax\":2,\"fUymax\":5.82696540370519,\"fTheta\":30,\"fPhi\":30,\"fAspectRatio\":0,\"fNumber\":0,\"fTickx\":0,\"fTicky\":0,\"fLogx\":1,\"fLogy\":1,\"fLogz\":0,\"fPadPaint\":0,\"fCrosshair\":0,\"fCrosshairPos\":0,\"fBorderSize\":2,\"fBorderMode\":0,\"fModified\":false,\"fGridx\":false,\"fGridy\":false,\"fAbsCoord\":false,\"fEditable\":true,\"fFixedAspectRatio\":false,\"fPrimitives\":{\"_typename\":\"TList\",\"name\":\"TList\",\"arr\":[{\"_typename\":\"TFrame\",\"fUniqueID\":0,\"fBits\":50331656,\"fLineColor\":1,\"fLineStyle\":1,\"fLineWidth\":1,\"fFillColor\":0,\"fFillStyle\":1001,\"fX1\":-1,\"fY1\":-0.301029995663981,\"fX2\":2,\"fY2\":5.82696540370519,\"fBorderSize\":1,\"fBorderMode\":0},{\"_typename\":\"TH1D\",\"fUniqueID\":0,\"fBits\":50332168,\"fName\":\"digiHitCharge\",\"fTitle\":\"\",\"fLineColor\":602,\"fLineStyle\":1,\"fLineWidth\":1,\"fFillColor\":0,\"fFillStyle\":1001,\"fMarkerColor\":1,\"fMarkerStyle\":1,\"fMarkerSize\":1,\"fNcells\":1002,\"fXaxis\":{\"_typename\":\"TAxis\",\"fUniqueID\":0,\"fBits\":50331656,\"fName\":\"xaxis\",\"fTitle\":\"Digitized hit charge\",\"fNdivisions\":510,\"fAxisColor\":1,\"fLabelColor\":1,\"fLabelFont\":42,\"fLabelOffset\":0.005,\"fLabelSize\":0.035,\"fTickLength\":0.03,\"fTitleOffset\":1,\"fTitleSize\":0.05,\"fTitleColor\":1,\"fTitleFont\":42,\"fNbins\":1000,\"fXmin\":0.1,\"fXmax\":100,\"fXbins\":[],\"fFirst\":0,\"fLast\":0,\"fBits2\":0,\"fTimeDisplay\":false,\"fTimeFormat\":\"\",\"fLabels\":null,\"fModLabs\":null},\"fYaxis\":{\"_typename\":\"TAxis\",\"fUniqueID\":0,\"fBits\":50331648,\"fName\":\"yaxis\",\"fTitle\":\"\",\"fNdivisions\":510,\"fAxisColor\":1,\"fLabelColor\":1,\"fLabelFont\":42,\"fLabelOffset\":0.005,\"fLabelSize\":0.035,\"fTickLength\":0.03,\"fTitleOffset\":0,\"fTitleSize\":0.035,\"fTitleColor\":1,\"fTitleFont\":42,\"fNbins\":1,\"fXmin\":0,\"fXmax\":1,\"fXbins\":[],\"fFirst\":0,\"fLast\":0,\"fBits2\":0,\"fTimeDisplay\":false,\"fTimeFormat\":\"\",\"fLabels\":null,\"fModLabs\":null},\"fZaxis\":{\"_typename\":\"TAxis\",\"fUniqueID\":0,\"fBits\":50331648,\"fName\":\"zaxis\",\"fTitle\":\"\",\"fNdivisions\":510,\"fAxisColor\":1,\"fLabelColor\":1,\"fLabelFont\":42,\"fLabelOffset\":0.005,\"fLabelSize\":0.035,\"fTickLength\":0.03,\"fTitleOffset\":1,\"fTitleSize\":0.035,\"fTitleColor\":1,\"fTitleFont\":42,\"fNbins\":1,\"fXmin\":0,\"fXmax\":1,\"fXbins\":[],\"fFirst\":0,\"fLast\":0,\"fBits2\":0,\"fTimeDisplay\":false,\"fTimeFormat\":\"\",\"fLabels\":null,\"fModLabs\":null},\"fBarOffset\":0,\"fBarWidth\":1000,\"fEntries\":5285709,\"fTsumw\":5280793,\"fTsumw2\":5280793,\"fTsumwx\":12304827.4432641,\"fTsumwx2\":61955406.2021442,\"fMaximum\":-1111,\"fMinimum\":-1111,\"fNormFactor\":0,\"fContour\":[],\"fSumw2\":[],\"fOption\":\"\",\"fFunctions\":{\"_typename\":\"TList\",\"name\":\"TList\",\"arr\":[],\"opt\":[]},\"fBufferSize\":0,\"fBuffer\":[],\"fBinStatErrOpt\":0,\"fStatOverflows\":2,\"fArray\":[4865,25996,56474,81522,99303,118066,145226,190959,246574,302276,341620,354337,341201,306999,257197,204049,156043,119176,94833,80032,73130,70469,69496,67958,66198,63329,59370,55330,50329,46323,42580,40081,37595,35738,34445,32972,32409,31217,29637,28570,27549,26265,24947,23846,23013,22194,21380,20757,19891,19243,18485,17942,17335,16689,16048,15603,15008,14357,14210,13443,13021,12453,12173,11545,11439,11088,10717,10319,10032,9673,9275,8924,8583,8345,8222,7900,7539,7330,7112,6874,6535,6538,6342,6213,5827,5800,5540,5335,5174,4994,4736,4654,4678,4366,4212,4100,3939,3839,3615,3529,3494,3304,3196,3186,2997,2940,2925,2823,2657,2593,2447,2517,2355,2279,2213,2072,2032,2018,1896,1868,1815,1695,1711,1659,1675,1544,1487,1445,1400,1329,1329,1240,1273,1171,1144,1094,1086,1074,956,961,963,914,907,884,825,807,766,732,733,716,716,677,677,618,642,596,555,516,535,523,505,504,448,440,421,435,414,436,379,409,343,316,326,337,325,320,319,304,293,246,273,245,247,256,225,227,231,202,236,215,196,194,181,183,196,153,182,146,147,137,154,143,129,143,134,120,113,126,117,108,110,99,118,110,98,102,75,84,94,86,79,78,73,82,72,71,69,67,68,60,55,53,70,61,68,59,50,36,50,57,45,58,55,50,38,43,36,42,31,49,35,34,36,35,30,24,30,25,27,32,19,29,33,28,32,24,24,25,19,32,29,22,15,27,26,23,22,25,20,18,20,20,26,17,21,19,18,20,12,12,17,13,12,13,14,14,10,9,12,10,12,16,19,13,11,13,10,13,8,14,13,9,10,10,8,6,8,11,12,5,16,8,6,8,6,6,11,7,11,11,7,3,9,7,8,7,4,6,5,10,8,7,4,7,6,4,5,5,12,0,4,5,6,6,4,3,6,6,6,1,6,5,6,8,2,5,7,6,4,7,7,4,4,6,3,2,4,5,5,6,4,6,3,1,2,6,6,5,2,4,5,2,2,3,4,4,2,5,5,4,3,3,6,1,4,3,4,4,5,4,2,6,4,1,5,2,2,1,0,3,1,3,1,4,1,5,0,1,1,2,1,4,0,0,2,2,2,0,2,3,3,5,4,2,1,2,3,3,0,1,0,0,2,3,1,0,1,4,1,1,1,3,1,1,1,1,3,2,3,2,1,3,3,1,0,2,0,2,3,3,0,1,1,3,0,1,1,0,2,0,1,0,2,0,1,0,0,0,1,3,2,1,0,0,3,2,3,0,1,3,2,0,2,0,1,1,0,0,3,1,0,1,1,1,1,4,3,0,0,1,0,0,0,1,1,3,2,1,0,2,2,1,3,1,0,0,2,1,1,1,0,0,1,1,1,2,0,2,0,1,1,1,1,2,0,1,0,0,2,0,0,1,1,0,2,1,0,1,0,0,1,2,1,1,1,0,0,0,0,0,1,0,1,1,0,0,1,1,1,1,2,3,3,0,1,1,1,4,1,2,1,0,0,3,0,1,1,2,0,0,1,2,1,2,1,0,1,1,0,2,0,0,2,0,3,0,0,0,0,0,2,1,1,0,2,1,1,2,1,0,1,0,0,0,0,0,0,0,0,2,0,2,2,2,0,1,0,1,0,0,1,1,1,0,0,1,0,1,0,3,0,0,0,0,1,0,1,1,0,1,0,1,2,0,0,0,0,0,0,1,0,1,0,0,1,2,0,1,1,0,2,0,0,0,1,0,2,1,0,0,0,0,0,0,0,0,0,0,0,0,0,0,0,1,0,0,2,0,0,0,0,1,0,0,0,0,0,1,0,0,0,0,1,2,1,2,0,1,0,0,0,0,0,1,0,0,0,0,2,1,0,0,0,0,1,0,0,3,1,1,1,0,2,0,0,0,0,0,1,0,0,2,2,0,0,0,1,0,0,0,2,1,0,1,0,0,0,0,0,0,0,0,1,0,0,1,0,2,0,0,1,0,0,0,0,2,0,0,0,0,1,0,0,0,0,1,0,0,1,0,1,0,0,0,1,0,0,2,0,0,0,0,0,0,0,1,1,0,1,0,0,0,1,1,0,0,0,0,1,0,0,0,1,0,0,0,0,0,1,0,0,0,1,1,0,1,0,1,1,0,0,0,0,0,0,0,0,0,0,0,0,0,1,0,0,0,1,0,0,0,0,0,0,1,0,0,0,0,0,0,0,0,0,0,0,0,0,0,0,0,0,0,0,0,1,0,0,0,0,0,0,1,0,0,0,1,0,0,0,0,0,0,0,0,0,0,0,0,0,0,0,0,0,0,0,0,1,0,0,1,0,0,0,1,0,0,0,1,1,0,0,0,0,0,0,0,1,0,0,1,0,0,0,0,0,0,0,0,0,0,0,51]}],\"opt\":[\"\",\"\"]},\"fExecs\":null,\"fName\":\"c1_n2\",\"fTitle\":\"c1_n2\",\"fNumPaletteColor\":0,\"fNextPaletteColor\":0,\"fDISPLAY\":\"$DISPLAY\",\"fDoubleBuffer\":0,\"fRetained\":true,\"fXsizeUser\":0,\"fYsizeUser\":0,\"fXsizeReal\":20,\"fYsizeReal\":14.28571,\"fWindowTopX\":0,\"fWindowTopY\":0,\"fWindowWidth\":0,\"fWindowHeight\":0,\"fCw\":696,\"fCh\":472,\"fCatt\":{\"_typename\":\"TAttCanvas\",\"fXBetween\":2,\"fYBetween\":2,\"fTitleFromTop\":1.2,\"fXdate\":0.2,\"fYdate\":0.3,\"fAdate\":1},\"kMoveOpaque\":true,\"kResizeOpaque\":true,\"fHighLightColor\":2,\"fBatch\":true,\"kShowEventStatus\":false,\"kAutoExec\":true,\"kMenuBar\":true});\n",
       "       Core.draw(\"root_plot_2\", obj, \"\");\n",
       "     }\n",
       " );\n",
       "</script>\n"
      ],
      "text/plain": [
       "<IPython.core.display.HTML object>"
      ]
     },
     "metadata": {},
     "output_type": "display_data"
    },
    {
     "data": {
      "text/html": [
       "\n",
       "<div id=\"root_plot_3\"\n",
       "     style=\"width: 696px; height: 472px\">\n",
       "</div>\n",
       "\n",
       "<script>\n",
       " requirejs.config({\n",
       "     paths: {\n",
       "       'JSRootCore' : '/static/jsroot//scripts/JSRootCore',\n",
       "     }\n",
       "   });\n",
       " require(['JSRootCore'],\n",
       "     function(Core) {\n",
       "       var obj = Core.JSONR_unref({\"_typename\":\"TCanvas\",\"fUniqueID\":0,\"fBits\":53673992,\"fLineColor\":1,\"fLineStyle\":1,\"fLineWidth\":1,\"fFillColor\":0,\"fFillStyle\":1001,\"fLeftMargin\":0.1,\"fRightMargin\":0.1,\"fBottomMargin\":0.1,\"fTopMargin\":0.1,\"fXfile\":2,\"fYfile\":2,\"fAfile\":1,\"fXstat\":0.99,\"fYstat\":0.99,\"fAstat\":2,\"fFrameFillColor\":0,\"fFrameLineColor\":1,\"fFrameFillStyle\":1001,\"fFrameLineStyle\":1,\"fFrameLineWidth\":1,\"fFrameBorderSize\":1,\"fFrameBorderMode\":0,\"fX1\":1.62499997206032,\"fY1\":-0.559772588605895,\"fX2\":5.37500002793968,\"fY2\":2.02765318659065,\"fXtoAbsPixelk\":-301.599940320205,\"fXtoPixelk\":-301.599940320205,\"fXtoPixel\":185.599997234344,\"fYtoAbsPixelk\":369.88594711258,\"fYtoPixelk\":369.88594711258,\"fYtoPixel\":-182.420691841545,\"fUtoAbsPixelk\":5e-5,\"fUtoPixelk\":5e-5,\"fUtoPixel\":696,\"fVtoAbsPixelk\":472.00005,\"fVtoPixelk\":472,\"fVtoPixel\":-472,\"fAbsPixeltoXk\":1.62499997206032,\"fPixeltoXk\":1.62499997206032,\"fPixeltoX\":0.00538793111476919,\"fAbsPixeltoYk\":2.02765318659065,\"fPixeltoYk\":-0.559772588605895,\"fPixeltoY\":-0.0054818342694842,\"fXlowNDC\":0,\"fYlowNDC\":0,\"fXUpNDC\":0,\"fYUpNDC\":0,\"fWNDC\":1,\"fHNDC\":1,\"fAbsXlowNDC\":0,\"fAbsYlowNDC\":0,\"fAbsWNDC\":1,\"fAbsHNDC\":1,\"fUxmin\":2,\"fUymin\":-0.301029995663981,\"fUxmax\":5,\"fUymax\":1.76891059364873,\"fTheta\":30,\"fPhi\":30,\"fAspectRatio\":0,\"fNumber\":0,\"fTickx\":0,\"fTicky\":0,\"fLogx\":1,\"fLogy\":1,\"fLogz\":0,\"fPadPaint\":0,\"fCrosshair\":0,\"fCrosshairPos\":0,\"fBorderSize\":2,\"fBorderMode\":0,\"fModified\":false,\"fGridx\":false,\"fGridy\":false,\"fAbsCoord\":false,\"fEditable\":true,\"fFixedAspectRatio\":false,\"fPrimitives\":{\"_typename\":\"TList\",\"name\":\"TList\",\"arr\":[{\"_typename\":\"TFrame\",\"fUniqueID\":0,\"fBits\":50331656,\"fLineColor\":1,\"fLineStyle\":1,\"fLineWidth\":1,\"fFillColor\":0,\"fFillStyle\":1001,\"fX1\":2,\"fY1\":-0.301029995663981,\"fX2\":5,\"fY2\":1.76891059364873,\"fBorderSize\":1,\"fBorderMode\":0},{\"_typename\":\"TH1D\",\"fUniqueID\":0,\"fBits\":50332168,\"fName\":\"totalCharge\",\"fTitle\":\"\",\"fLineColor\":602,\"fLineStyle\":1,\"fLineWidth\":1,\"fFillColor\":0,\"fFillStyle\":1001,\"fMarkerColor\":1,\"fMarkerStyle\":1,\"fMarkerSize\":1,\"fNcells\":1002,\"fXaxis\":{\"_typename\":\"TAxis\",\"fUniqueID\":0,\"fBits\":50331656,\"fName\":\"xaxis\",\"fTitle\":\"Total charge\",\"fNdivisions\":510,\"fAxisColor\":1,\"fLabelColor\":1,\"fLabelFont\":42,\"fLabelOffset\":0.005,\"fLabelSize\":0.035,\"fTickLength\":0.03,\"fTitleOffset\":1,\"fTitleSize\":0.05,\"fTitleColor\":1,\"fTitleFont\":42,\"fNbins\":1000,\"fXmin\":100,\"fXmax\":100000,\"fXbins\":[],\"fFirst\":0,\"fLast\":0,\"fBits2\":0,\"fTimeDisplay\":false,\"fTimeFormat\":\"\",\"fLabels\":null,\"fModLabs\":null},\"fYaxis\":{\"_typename\":\"TAxis\",\"fUniqueID\":0,\"fBits\":50331648,\"fName\":\"yaxis\",\"fTitle\":\"\",\"fNdivisions\":510,\"fAxisColor\":1,\"fLabelColor\":1,\"fLabelFont\":42,\"fLabelOffset\":0.005,\"fLabelSize\":0.035,\"fTickLength\":0.03,\"fTitleOffset\":0,\"fTitleSize\":0.035,\"fTitleColor\":1,\"fTitleFont\":42,\"fNbins\":1,\"fXmin\":0,\"fXmax\":1,\"fXbins\":[],\"fFirst\":0,\"fLast\":0,\"fBits2\":0,\"fTimeDisplay\":false,\"fTimeFormat\":\"\",\"fLabels\":null,\"fModLabs\":null},\"fZaxis\":{\"_typename\":\"TAxis\",\"fUniqueID\":0,\"fBits\":50331648,\"fName\":\"zaxis\",\"fTitle\":\"\",\"fNdivisions\":510,\"fAxisColor\":1,\"fLabelColor\":1,\"fLabelFont\":42,\"fLabelOffset\":0.005,\"fLabelSize\":0.035,\"fTickLength\":0.03,\"fTitleOffset\":1,\"fTitleSize\":0.035,\"fTitleColor\":1,\"fTitleFont\":42,\"fNbins\":1,\"fXmin\":0,\"fXmax\":1,\"fXbins\":[],\"fFirst\":0,\"fLast\":0,\"fBits2\":0,\"fTimeDisplay\":false,\"fTimeFormat\":\"\",\"fLabels\":null,\"fModLabs\":null},\"fBarOffset\":0,\"fBarWidth\":1000,\"fEntries\":2000,\"fTsumw\":2000,\"fTsumw2\":2000,\"fTsumwx\":12312453.9602923,\"fTsumwx2\":93531107698.4591,\"fMaximum\":-1111,\"fMinimum\":-1111,\"fNormFactor\":0,\"fContour\":[],\"fSumw2\":[],\"fOption\":\"\",\"fFunctions\":{\"_typename\":\"TList\",\"name\":\"TList\",\"arr\":[],\"opt\":[]},\"fBufferSize\":0,\"fBuffer\":[],\"fBinStatErrOpt\":0,\"fStatOverflows\":2,\"fArray\":[0,0,0,1,0,0,1,0,0,0,1,3,23,20,13,18,20,26,27,21,24,23,23,17,21,21,18,21,16,12,31,24,25,21,22,20,19,25,24,16,23,17,23,15,18,20,23,16,17,20,17,15,17,16,19,21,16,28,21,25,26,16,18,18,19,11,25,12,25,16,21,26,24,20,17,18,16,20,18,15,21,19,19,18,22,19,23,25,16,24,15,12,17,22,16,15,17,9,24,13,15,16,13,27,13,21,27,20,18,14,11,19,14,13,7,7,6,5,2,1,0,0,0,0,0,0,0,0,0,0,0,0,0,0,0,0,0,0,0,0,0,0,0,0,0,0,0,0,0,0,0,0,0,0,0,0,0,0,0,0,0,0,0,0,0,0,0,0,0,0,0,0,0,0,0,0,0,0,0,0,0,0,0,0,0,0,0,0,0,0,0,0,0,0,0,0,0,0,0,0,0,0,0,0,0,0,0,0,0,0,0,0,0,0,0,0,0,0,0,0,0,0,0,0,0,0,0,0,0,0,0,0,0,0,0,0,0,0,0,0,0,0,0,0,0,0,0,0,0,0,0,0,0,0,0,0,0,0,0,0,0,0,0,0,0,0,0,0,0,0,0,0,0,0,0,0,0,0,0,0,0,0,0,0,0,0,0,0,0,0,0,0,0,0,0,0,0,0,0,0,0,0,0,0,0,0,0,0,0,0,0,0,0,0,0,0,0,0,0,0,0,0,0,0,0,0,0,0,0,0,0,0,0,0,0,0,0,0,0,0,0,0,0,0,0,0,0,0,0,0,0,0,0,0,0,0,0,0,0,0,0,0,0,0,0,0,0,0,0,0,0,0,0,0,0,0,0,0,0,0,0,0,0,0,0,0,0,0,0,0,0,0,0,0,0,0,0,0,0,0,0,0,0,0,0,0,0,0,0,0,0,0,0,0,0,0,0,0,0,0,0,0,0,0,0,0,0,0,0,0,0,0,0,0,0,0,0,0,0,0,0,0,0,0,0,0,0,0,0,0,0,0,0,0,0,0,0,0,0,0,0,0,0,0,0,0,0,0,0,0,0,0,0,0,0,0,0,0,0,0,0,0,0,0,0,0,0,0,0,0,0,0,0,0,0,0,0,0,0,0,0,0,0,0,0,0,0,0,0,0,0,0,0,0,0,0,0,0,0,0,0,0,0,0,0,0,0,0,0,0,0,0,0,0,0,0,0,0,0,0,0,0,0,0,0,0,0,0,0,0,0,0,0,0,0,0,0,0,0,0,0,0,0,0,0,0,0,0,0,0,0,0,0,0,0,0,0,0,0,0,0,0,0,0,0,0,0,0,0,0,0,0,0,0,0,0,0,0,0,0,0,0,0,0,0,0,0,0,0,0,0,0,0,0,0,0,0,0,0,0,0,0,0,0,0,0,0,0,0,0,0,0,0,0,0,0,0,0,0,0,0,0,0,0,0,0,0,0,0,0,0,0,0,0,0,0,0,0,0,0,0,0,0,0,0,0,0,0,0,0,0,0,0,0,0,0,0,0,0,0,0,0,0,0,0,0,0,0,0,0,0,0,0,0,0,0,0,0,0,0,0,0,0,0,0,0,0,0,0,0,0,0,0,0,0,0,0,0,0,0,0,0,0,0,0,0,0,0,0,0,0,0,0,0,0,0,0,0,0,0,0,0,0,0,0,0,0,0,0,0,0,0,0,0,0,0,0,0,0,0,0,0,0,0,0,0,0,0,0,0,0,0,0,0,0,0,0,0,0,0,0,0,0,0,0,0,0,0,0,0,0,0,0,0,0,0,0,0,0,0,0,0,0,0,0,0,0,0,0,0,0,0,0,0,0,0,0,0,0,0,0,0,0,0,0,0,0,0,0,0,0,0,0,0,0,0,0,0,0,0,0,0,0,0,0,0,0,0,0,0,0,0,0,0,0,0,0,0,0,0,0,0,0,0,0,0,0,0,0,0,0,0,0,0,0,0,0,0,0,0,0,0,0,0,0,0,0,0,0,0,0,0,0,0,0,0,0,0,0,0,0,0,0,0,0,0,0,0,0,0,0,0,0,0,0,0,0,0,0,0,0,0,0,0,0,0,0,0,0,0,0,0,0,0,0,0,0,0,0,0,0,0,0,0,0,0,0,0,0,0,0,0,0,0,0,0,0,0,0,0,0,0,0,0,0,0,0,0,0,0,0,0,0,0,0,0,0,0,0,0,0,0,0,0,0,0,0,0,0,0,0,0,0,0,0,0,0,0,0,0,0,0]}],\"opt\":[\"\",\"\"]},\"fExecs\":null,\"fName\":\"c1_n3\",\"fTitle\":\"c1_n3\",\"fNumPaletteColor\":0,\"fNextPaletteColor\":0,\"fDISPLAY\":\"$DISPLAY\",\"fDoubleBuffer\":0,\"fRetained\":true,\"fXsizeUser\":0,\"fYsizeUser\":0,\"fXsizeReal\":20,\"fYsizeReal\":14.28571,\"fWindowTopX\":0,\"fWindowTopY\":0,\"fWindowWidth\":0,\"fWindowHeight\":0,\"fCw\":696,\"fCh\":472,\"fCatt\":{\"_typename\":\"TAttCanvas\",\"fXBetween\":2,\"fYBetween\":2,\"fTitleFromTop\":1.2,\"fXdate\":0.2,\"fYdate\":0.3,\"fAdate\":1},\"kMoveOpaque\":true,\"kResizeOpaque\":true,\"fHighLightColor\":2,\"fBatch\":true,\"kShowEventStatus\":false,\"kAutoExec\":true,\"kMenuBar\":true});\n",
       "       Core.draw(\"root_plot_3\", obj, \"\");\n",
       "     }\n",
       " );\n",
       "</script>\n"
      ],
      "text/plain": [
       "<IPython.core.display.HTML object>"
      ]
     },
     "metadata": {},
     "output_type": "display_data"
    }
   ],
   "source": [
    "c = ROOT.TCanvas()\n",
    "digiHitTime.Draw()\n",
    "c.SetLogy()\n",
    "c.Draw()\n",
    "c2 = ROOT.TCanvas()\n",
    "digiHitCharge.Draw()\n",
    "c2.SetLogy()\n",
    "c2.SetLogx()\n",
    "c2.Draw()\n",
    "c3 = ROOT.TCanvas()\n",
    "totalCharge.Draw()\n",
    "c3.SetLogy()\n",
    "c3.SetLogx()\n",
    "c3.Draw()"
   ]
  },
  {
   "cell_type": "code",
   "execution_count": null,
   "metadata": {},
   "outputs": [],
   "source": []
  }
 ],
 "metadata": {
  "kernelspec": {
   "display_name": "Python 3",
   "language": "python",
   "name": "python3"
  },
  "language_info": {
   "codemirror_mode": {
    "name": "ipython",
    "version": 3
   },
   "file_extension": ".py",
   "mimetype": "text/x-python",
   "name": "python",
   "nbconvert_exporter": "python",
   "pygments_lexer": "ipython3",
   "version": "3.6.3"
  },
  "pycharm": {
   "stem_cell": {
    "cell_type": "raw",
    "metadata": {
     "collapsed": false
    },
    "source": []
   }
  }
 },
 "nbformat": 4,
 "nbformat_minor": 2
}
